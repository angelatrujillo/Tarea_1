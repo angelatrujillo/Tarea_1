{
 "cells": [
  {
   "cell_type": "markdown",
   "metadata": {
    "id": "dCNCKJGxzErY"
   },
   "source": [
    "<a href=\"https://imgur.com/6U6q5jQ\"><img src=\"https://i.imgur.com/6U6q5jQ.png\" title=\"source: imgur.com\" /></a>"
   ]
  },
  {
   "cell_type": "markdown",
   "metadata": {
    "id": "Bb5P9oBJtWgi"
   },
   "source": [
    "<a target=\"_blank\" href=\"https://colab.research.google.com/github/PythonVersusR/basicDataStructures_lists/blob/main/R_Python_Lists.ipynb\">\n",
    "  <img src=\"https://colab.research.google.com/assets/colab-badge.svg\" alt=\"Open In Colab\"/>\n",
    "</a>\n",
    "\n",
    "\n",
    "# Lists in R and Python"
   ]
  },
  {
   "cell_type": "code",
   "execution_count": null,
   "metadata": {
    "id": "CQ0-6XdK5Sre"
   },
   "outputs": [],
   "source": [
    "## if needed, run this and RESTART KERNEL\n",
    "# import os\n",
    "# os.environ['R_HOME'] ='/Library/Frameworks/R.framework/Resources'"
   ]
  },
  {
   "cell_type": "code",
   "execution_count": null,
   "metadata": {
    "id": "oo3FOXWP6ewM"
   },
   "outputs": [],
   "source": [
    "%load_ext rpy2.ipython"
   ]
  },
  {
   "cell_type": "markdown",
   "metadata": {
    "id": "ix7xtYzM7GsE"
   },
   "source": [
    "## 1. Creating"
   ]
  },
  {
   "cell_type": "code",
   "execution_count": null,
   "metadata": {
    "id": "GHJeUsWetWgm"
   },
   "outputs": [],
   "source": [
    "namesP=[\"Qing\", \"Françoise\", \"Raúl\", \"Bjork\",\"Marie\",\"Jim\",\"Tere\",\"Tina\"]\n",
    "agesP=[32,33,28,30,29,33,34,27]\n",
    "countryP=[\"China\", \"Senegal\", \"España\", \"Norway\",\"Korea\",\"USA\",\"Bolivia\",\"Portugal\"]\n",
    "educationP=[\"Bach\", \"Bach\", \"Master\", \"PhD\",\"PhD\", \"Master\",\"Master\",\"PhD\"]"
   ]
  },
  {
   "cell_type": "code",
   "execution_count": null,
   "metadata": {
    "id": "kHOybyYs7bt3"
   },
   "outputs": [],
   "source": [
    "type(namesP)"
   ]
  },
  {
   "cell_type": "code",
   "execution_count": null,
   "metadata": {
    "id": "bYQ8wWNQ6rSt"
   },
   "outputs": [],
   "source": [
    "namesP"
   ]
  },
  {
   "cell_type": "code",
   "execution_count": null,
   "metadata": {
    "id": "dUxYQK6F5lks"
   },
   "outputs": [],
   "source": [
    "%%R\n",
    "namesR=list(\"Qing\", \"Françoise\", \"Raúl\", \"Bjork\",\"Marie\",\"Jim\",\"Tere\",\"Tina\")\n",
    "agesR=list(32,33,28,30,29,33,34,27)\n",
    "countryR=list(\"China\", \"Senegal\", \"España\", \"Norway\",\"Korea\",\"USA\",\"Bolivia\",\"Portugal\")\n",
    "educationR=list(\"Bach\", \"Bach\", \"Master\", \"PhD\",\"PhD\", \"Master\",\"Master\",\"PhD\")"
   ]
  },
  {
   "cell_type": "code",
   "execution_count": null,
   "metadata": {
    "id": "RSJyun677gMs"
   },
   "outputs": [],
   "source": [
    "%%R\n",
    "typeof(namesR)"
   ]
  },
  {
   "cell_type": "code",
   "execution_count": null,
   "metadata": {
    "id": "9h7K4xpm6lzE"
   },
   "outputs": [],
   "source": [
    "%%R\n",
    "namesR"
   ]
  },
  {
   "cell_type": "markdown",
   "metadata": {
    "id": "_y7hce_8tWgr"
   },
   "source": [
    "## 2. Accessing"
   ]
  },
  {
   "cell_type": "code",
   "execution_count": null,
   "metadata": {
    "id": "Hp4CogsCtWgr"
   },
   "outputs": [],
   "source": [
    "# Keep in mind the positions in Python start in **0**.\n",
    "agesP[0]"
   ]
  },
  {
   "cell_type": "code",
   "execution_count": null,
   "metadata": {
    "id": "LcIBAZEr7ml_"
   },
   "outputs": [],
   "source": [
    "type(agesP[0])"
   ]
  },
  {
   "cell_type": "code",
   "execution_count": null,
   "metadata": {
    "id": "bZalkSyg7ozY"
   },
   "outputs": [],
   "source": [
    "%%R\n",
    "agesR[[1]]"
   ]
  },
  {
   "cell_type": "code",
   "execution_count": null,
   "metadata": {
    "id": "Z_DmJ2Cj7qic"
   },
   "outputs": [],
   "source": [
    "%%R\n",
    "typeof(agesR[[1]])"
   ]
  },
  {
   "cell_type": "code",
   "execution_count": null,
   "metadata": {
    "id": "hvaThvo_8-ZB"
   },
   "outputs": [],
   "source": [
    "%%R\n",
    "agesR[1]"
   ]
  },
  {
   "cell_type": "code",
   "execution_count": null,
   "metadata": {
    "id": "1tUwi0-M82fp"
   },
   "outputs": [],
   "source": [
    "%%R\n",
    "typeof(agesR[1])"
   ]
  },
  {
   "cell_type": "code",
   "execution_count": null,
   "metadata": {
    "id": "MuQtAvsH-rJw"
   },
   "outputs": [],
   "source": [
    "#last element\n",
    "countryP[-1]"
   ]
  },
  {
   "cell_type": "code",
   "execution_count": null,
   "metadata": {
    "id": "Ffzl7qci-yzx"
   },
   "outputs": [],
   "source": [
    "%%R\n",
    "tail(countryR,1)"
   ]
  },
  {
   "cell_type": "markdown",
   "metadata": {
    "id": "hAq14dMo8TnG"
   },
   "source": [
    "### Slices"
   ]
  },
  {
   "cell_type": "code",
   "execution_count": null,
   "metadata": {
    "id": "pa7c_1M1tWgv"
   },
   "outputs": [],
   "source": [
    "# consecutive\n",
    "agesP[1:4] #second to fourth"
   ]
  },
  {
   "cell_type": "code",
   "execution_count": null,
   "metadata": {
    "id": "AF942YnF8yc9"
   },
   "outputs": [],
   "source": [
    "%%R\n",
    "agesR[2:4]"
   ]
  },
  {
   "cell_type": "code",
   "execution_count": null,
   "metadata": {
    "id": "XSO50xLN9MZB"
   },
   "outputs": [],
   "source": [
    "# non consecutive with step or pattern\n",
    "agesP[1:8:2] # second to eight step 2"
   ]
  },
  {
   "cell_type": "code",
   "execution_count": null,
   "metadata": {
    "id": "J5V5_Cxl_Avj"
   },
   "outputs": [],
   "source": [
    "%%R\n",
    "agesR[seq(2,8,2)]"
   ]
  },
  {
   "cell_type": "code",
   "execution_count": null,
   "metadata": {
    "id": "p8h88eUjtWg1"
   },
   "outputs": [],
   "source": [
    "# non consecutive without step or pattern\n",
    "keepIndex=[0, 2, 3]\n",
    "[agesP[i] for i in keepIndex]\n"
   ]
  },
  {
   "cell_type": "code",
   "execution_count": null,
   "metadata": {
    "id": "c8RpFx1dAEmz"
   },
   "outputs": [],
   "source": [
    "%%R\n",
    "agesR[c(1,3,4)]"
   ]
  },
  {
   "cell_type": "markdown",
   "metadata": {
    "id": "3HdLpDektWg6"
   },
   "source": [
    "## Replacing"
   ]
  },
  {
   "cell_type": "markdown",
   "metadata": {
    "id": "W9tJhxjeBMyX"
   },
   "source": [
    "### by Position"
   ]
  },
  {
   "cell_type": "code",
   "execution_count": null,
   "metadata": {
    "id": "Q5mtP1j8tWg7"
   },
   "outputs": [],
   "source": [
    "countryP[2]=\"Spain\"\n",
    "\n",
    "# list changed:\n",
    "countryP"
   ]
  },
  {
   "cell_type": "code",
   "execution_count": null,
   "metadata": {
    "id": "Bq1cr1VPBRJz"
   },
   "outputs": [],
   "source": [
    "%%R\n",
    "countryR[[3]]=\"Spain\"\n",
    "\n",
    "# list changed:\n",
    "countryR"
   ]
  },
  {
   "cell_type": "markdown",
   "metadata": {
    "id": "i3KudD3Don96"
   },
   "source": [
    "### By Value"
   ]
  },
  {
   "cell_type": "code",
   "execution_count": null,
   "metadata": {
    "id": "Nf9PJWMjqiNI"
   },
   "outputs": [],
   "source": [
    "\n",
    "countryP[countryP==\"China\"]=\"PR China\"\n",
    "countryP"
   ]
  },
  {
   "cell_type": "code",
   "execution_count": null,
   "metadata": {
    "id": "ZozgXyECpjy2"
   },
   "outputs": [],
   "source": [
    "%%R\n",
    "countryR[countryR=='China']=\"PR China\"\n",
    "countryR"
   ]
  },
  {
   "cell_type": "markdown",
   "metadata": {
    "id": "_CF8wYu0tWhH"
   },
   "source": [
    "## Deleting"
   ]
  },
  {
   "cell_type": "markdown",
   "metadata": {
    "id": "bjYzRXv2rB2r"
   },
   "source": [
    "### By Position"
   ]
  },
  {
   "cell_type": "code",
   "execution_count": null,
   "metadata": {
    "id": "ghWSnmzftWhH"
   },
   "outputs": [],
   "source": [
    "del countryP[-1] #last value\n",
    "\n",
    "# list changed:\n",
    "countryP"
   ]
  },
  {
   "cell_type": "code",
   "execution_count": null,
   "metadata": {
    "id": "h6UsIzY5tIgY"
   },
   "outputs": [],
   "source": [
    "%%R\n",
    "countryR[length(countryR)]=NULL\n",
    "countryR"
   ]
  },
  {
   "cell_type": "code",
   "execution_count": null,
   "metadata": {
    "id": "EVla5Ov2tWhM"
   },
   "outputs": [],
   "source": [
    "# 'del' works for several positions\n",
    "\n",
    "listP=[1,2,3,4,5,6]\n",
    "del listP[1:4]\n",
    "\n",
    "#now:\n",
    "listP"
   ]
  },
  {
   "cell_type": "code",
   "execution_count": null,
   "metadata": {
    "id": "hquozQUutoXe"
   },
   "outputs": [],
   "source": [
    "%%R\n",
    "\n",
    "listR=list(1,2,3,4,5,6)\n",
    "listR[2:4]=NULL\n",
    "\n",
    "#now:\n",
    "listR"
   ]
  },
  {
   "cell_type": "code",
   "execution_count": null,
   "metadata": {
    "id": "4Sc0LyKDuJoz"
   },
   "outputs": [],
   "source": [
    "# non consecutive\n",
    "listP=[10,11,30,33,50,55]\n",
    "byeIndex=[1, 3, 5]\n",
    "listP=[listP[i] for i in range(len(listP)) if not i in byeIndex]\n",
    "listP"
   ]
  },
  {
   "cell_type": "code",
   "execution_count": null,
   "metadata": {
    "id": "A38KkgtGvpdv"
   },
   "outputs": [],
   "source": [
    "%%R\n",
    "listR=list(11,22,33,44,55,66)\n",
    "listR[c(2,4,6)]=NULL\n",
    "listR"
   ]
  },
  {
   "cell_type": "markdown",
   "metadata": {
    "id": "rz-SxbVDyI_5"
   },
   "source": [
    "### by Value"
   ]
  },
  {
   "cell_type": "code",
   "execution_count": null,
   "metadata": {
    "id": "kQCwXCw3tWhO"
   },
   "outputs": [],
   "source": [
    "# by value\n",
    "listP=[1,'a',45,'b','a']\n",
    "listP.remove('a')\n",
    "\n",
    "# list changed:\n",
    "listP # just first ocurrence of value!!"
   ]
  },
  {
   "cell_type": "code",
   "execution_count": null,
   "metadata": {
    "id": "GUi3v8hqtWhU"
   },
   "outputs": [],
   "source": [
    "# deleting every  value:\n",
    "\n",
    "listP=[1,'a',45,'b','a']\n",
    "listP=[p for p in listP if not p in ['a']]\n",
    "\n",
    "# you get:\n",
    "listP"
   ]
  },
  {
   "cell_type": "code",
   "execution_count": null,
   "metadata": {
    "id": "fSrbGThNzuxk"
   },
   "outputs": [],
   "source": [
    "%%R\n",
    "\n",
    "listR=list(1,'a',45,'b','a')\n",
    "listR=listR[!listR %in% list('a')]\n",
    "listR\n"
   ]
  },
  {
   "cell_type": "markdown",
   "metadata": {
    "id": "JzcKbpXptWhX"
   },
   "source": [
    "## Inserting values"
   ]
  },
  {
   "cell_type": "code",
   "execution_count": null,
   "metadata": {
    "id": "or5OmtestWhY"
   },
   "outputs": [],
   "source": [
    "# at the end\n",
    "listP=[1,'a',45,'b','a']\n",
    "listP.append(\"cde\")\n",
    "listP"
   ]
  },
  {
   "cell_type": "code",
   "execution_count": null,
   "metadata": {
    "id": "QCiOC5fG3O42"
   },
   "outputs": [],
   "source": [
    "%%R\n",
    "listR=list(1,'a',45,'b','a')\n",
    "listR=append(listR,'cde')\n",
    "listR"
   ]
  },
  {
   "cell_type": "code",
   "execution_count": null,
   "metadata": {
    "id": "GB4IycLs32Ya"
   },
   "outputs": [],
   "source": [
    "# specific position\n",
    "listP=[1,'a',45,'b','a']\n",
    "listP.insert(2,\"cde\")\n",
    "listP"
   ]
  },
  {
   "cell_type": "code",
   "execution_count": null,
   "metadata": {
    "id": "IcP2en363_ii"
   },
   "outputs": [],
   "source": [
    "%%R\n",
    "listR=list(1,'a',45,'b','a')\n",
    "listR=append(listR,'cde',after=2)\n",
    "listR"
   ]
  },
  {
   "cell_type": "markdown",
   "metadata": {
    "id": "ceqfkORcK9vt"
   },
   "source": [
    "## Concatenating"
   ]
  },
  {
   "cell_type": "code",
   "execution_count": null,
   "metadata": {
    "id": "4nFczku8K_3k"
   },
   "outputs": [],
   "source": [
    "listA_P=[1,2,3]\n",
    "listB_P=['a', 'b', 'c']\n",
    "listA_P + listB_P"
   ]
  },
  {
   "cell_type": "code",
   "execution_count": null,
   "metadata": {
    "id": "gvCtdID3bgm-"
   },
   "outputs": [],
   "source": [
    "listA2_P=[1,2,3]\n",
    "listB2_P=['a', 'b', 'c']\n",
    "listA2_P.extend(listB2_P)\n",
    "listA2_P"
   ]
  },
  {
   "cell_type": "code",
   "execution_count": null,
   "metadata": {
    "id": "hajS5MgJLRj9"
   },
   "outputs": [],
   "source": [
    "%%R\n",
    "listA_R=list(1,2,3)\n",
    "listB_R=list('a', 'b', 'c')\n",
    "append(listA_R, listB_R)"
   ]
  },
  {
   "cell_type": "code",
   "execution_count": null,
   "metadata": {
    "id": "buD_S1X6MUje"
   },
   "outputs": [],
   "source": [
    "#notice\n",
    "listA1_P=[1,2,3]\n",
    "listB1_P=['a', 'b', 'c']\n",
    "listA1_P.append(listB1_P)\n",
    "listA1_P"
   ]
  },
  {
   "cell_type": "code",
   "execution_count": null,
   "metadata": {
    "id": "MxaH2JXNLggB"
   },
   "outputs": [],
   "source": [
    "%%R\n",
    "append(listA_R, list(listB_R))"
   ]
  }
 ],
 "metadata": {
  "anaconda-cloud": {
   "attach-environment": true,
   "summary": "test"
  },
  "colab": {
   "provenance": [],
   "toc_visible": true
  },
  "hide_input": false,
  "kernelspec": {
   "display_name": "Python 3 (ipykernel)",
   "language": "python",
   "name": "python3"
  },
  "language_info": {
   "codemirror_mode": {
    "name": "ipython",
    "version": 3
   },
   "file_extension": ".py",
   "mimetype": "text/x-python",
   "name": "python",
   "nbconvert_exporter": "python",
   "pygments_lexer": "ipython3",
   "version": "3.12.0"
  }
 },
 "nbformat": 4,
 "nbformat_minor": 4
}
