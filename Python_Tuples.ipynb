{
 "cells": [
  {
   "cell_type": "markdown",
   "metadata": {
    "id": "lNv7Ih8U1kYU"
   },
   "source": [
    "<a href=\"https://imgur.com/6U6q5jQ\"><img src=\"https://i.imgur.com/6U6q5jQ.png\" title=\"source: imgur.com\" /></a>\n"
   ]
  },
  {
   "cell_type": "markdown",
   "metadata": {
    "id": "6TqYtxaftWhf"
   },
   "source": [
    "<a target=\"_blank\" href=\"https://colab.research.google.com/github/PythonVersusR/basicDataStructures_tuples/blob/main/Python_Tuples.ipynb\">\n",
    "  <img src=\"https://colab.research.google.com/assets/colab-badge.svg\" alt=\"Open In Colab\"/>\n",
    "</a>\n",
    "\n",
    "#  **TUPLES**\n",
    "\n",
    "Tuples are inmutable structures in Python, they look like lists but do not share much of their functionality:"
   ]
  },
  {
   "cell_type": "code",
   "execution_count": null,
   "metadata": {
    "id": "xcBxNtLDtWhg"
   },
   "outputs": [],
   "source": [
    "weekend=\"Friday\", \"Saturday\", \"Sunday\""
   ]
  },
  {
   "cell_type": "code",
   "execution_count": null,
   "metadata": {
    "id": "i8YTGmf5jWz2"
   },
   "outputs": [],
   "source": [
    "type(weekend)"
   ]
  },
  {
   "cell_type": "markdown",
   "metadata": {
    "id": "ii6lRXlZtWhj"
   },
   "source": [
    "You can access:"
   ]
  },
  {
   "cell_type": "code",
   "execution_count": null,
   "metadata": {
    "id": "QtVsil3CtWhj"
   },
   "outputs": [],
   "source": [
    "weekend[0]"
   ]
  },
  {
   "cell_type": "markdown",
   "metadata": {
    "id": "9VyDiWG0tWhn"
   },
   "source": [
    "But no other operation is allowed:"
   ]
  },
  {
   "cell_type": "code",
   "execution_count": null,
   "metadata": {
    "id": "knEfvHt2Je_k"
   },
   "outputs": [],
   "source": [
    "del weekend[0]"
   ]
  },
  {
   "cell_type": "code",
   "execution_count": null,
   "metadata": {
    "id": "I2sT23Y1JmKI"
   },
   "outputs": [],
   "source": [
    "weekend[0]='Viernes'"
   ]
  },
  {
   "cell_type": "code",
   "execution_count": null,
   "metadata": {
    "id": "FegD3iFmJwDv"
   },
   "outputs": [],
   "source": [
    "weekend[3]='Extra Holiday'"
   ]
  },
  {
   "cell_type": "markdown",
   "metadata": {
    "id": "j70EnHTHKL4k"
   },
   "source": [
    "You can concatenate two tuples into a new one:"
   ]
  },
  {
   "cell_type": "code",
   "execution_count": null,
   "metadata": {
    "id": "JjWqrH2LJ-SE"
   },
   "outputs": [],
   "source": [
    "otherDays='Monday','Tuesday', 'Wednesday', 'Thursday'\n",
    "otherDays"
   ]
  },
  {
   "cell_type": "code",
   "execution_count": null,
   "metadata": {
    "id": "0Xl7NrbuKKvu"
   },
   "outputs": [],
   "source": [
    "allDays=weekend + otherDays\n",
    "allDays"
   ]
  },
  {
   "cell_type": "markdown",
   "metadata": {
    "id": "QOLRbmojKcAl"
   },
   "source": [
    "But it has not altered any previous tuple."
   ]
  }
 ],
 "metadata": {
  "anaconda-cloud": {
   "attach-environment": true,
   "summary": "test"
  },
  "colab": {
   "provenance": [],
   "toc_visible": true
  },
  "hide_input": false,
  "kernelspec": {
   "display_name": "Python 3 (ipykernel)",
   "language": "python",
   "name": "python3"
  },
  "language_info": {
   "codemirror_mode": {
    "name": "ipython",
    "version": 3
   },
   "file_extension": ".py",
   "mimetype": "text/x-python",
   "name": "python",
   "nbconvert_exporter": "python",
   "pygments_lexer": "ipython3",
   "version": "3.12.0"
  }
 },
 "nbformat": 4,
 "nbformat_minor": 4
}
