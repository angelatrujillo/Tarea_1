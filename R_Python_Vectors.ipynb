{
 "cells": [
  {
   "cell_type": "markdown",
   "metadata": {
    "id": "Bb5P9oBJtWgi"
   },
   "source": [
    "<img src=\"https://i.imgur.com/6U6q5jQ.png\"/>\n",
    "\n",
    "<a target=\"_blank\" href=\"https://colab.research.google.com/github/PythonVersusR/basicDataStructures_vectors/blob/main/R_Python_Vectors.ipynb\">\n",
    "  <img src=\"https://colab.research.google.com/assets/colab-badge.svg\" alt=\"Open In Colab\"/>\n",
    "</a>\n",
    "\n",
    "# Vectors in R and Python"
   ]
  },
  {
   "cell_type": "code",
   "execution_count": null,
   "metadata": {},
   "outputs": [],
   "source": [
    "## if needed, run this and RESTART KERNEL\n",
    "# import os\n",
    "# os.environ['R_HOME'] ='/Library/Frameworks/R.framework/Resources'"
   ]
  },
  {
   "cell_type": "code",
   "execution_count": null,
   "metadata": {
    "id": "oo3FOXWP6ewM"
   },
   "outputs": [],
   "source": [
    "%load_ext rpy2.ipython"
   ]
  },
  {
   "cell_type": "markdown",
   "metadata": {
    "id": "ix7xtYzM7GsE"
   },
   "source": [
    "## 1. Creating"
   ]
  },
  {
   "cell_type": "code",
   "execution_count": null,
   "metadata": {
    "id": "GHJeUsWetWgm"
   },
   "outputs": [],
   "source": [
    "import numpy as np\n",
    "\n",
    "namesP=np.array([\"Qing\", \"Françoise\", \"Raúl\", \"Bjork\",\"Marie\"])\n",
    "agesP=np.array([32,33,28,30,29])\n",
    "countryP=np.array([\"China\", \"Senegal\", \"España\", \"Norway\",\"Korea\"])\n",
    "educationP=np.array([\"Bach\", \"Bach\", \"Master\", \"PhD\",\"PhD\"])"
   ]
  },
  {
   "cell_type": "code",
   "execution_count": null,
   "metadata": {
    "colab": {
     "base_uri": "https://localhost:8080/"
    },
    "id": "bYQ8wWNQ6rSt",
    "outputId": "bd12de02-2b4e-46c2-fced-f07443852afa"
   },
   "outputs": [],
   "source": [
    "namesP"
   ]
  },
  {
   "cell_type": "code",
   "execution_count": null,
   "metadata": {
    "id": "dUxYQK6F5lks"
   },
   "outputs": [],
   "source": [
    "%%R\n",
    "namesR=c(\"Qing\", \"Françoise\", \"Raúl\", \"Bjork\",\"Marie\")\n",
    "agesR=c(32,33,28,30,29)\n",
    "countryR=c(\"China\", \"Senegal\", \"España\", \"Norway\",\"Korea\")\n",
    "educationR=c(\"Bach\", \"Bach\", \"Master\", \"PhD\",\"PhD\")"
   ]
  },
  {
   "cell_type": "code",
   "execution_count": null,
   "metadata": {
    "colab": {
     "base_uri": "https://localhost:8080/"
    },
    "id": "9h7K4xpm6lzE",
    "outputId": "4f67a7cb-e37a-439e-fa1a-b4df68a1fb0f"
   },
   "outputs": [],
   "source": [
    "%%R\n",
    "namesR"
   ]
  },
  {
   "cell_type": "markdown",
   "metadata": {
    "id": "_y7hce_8tWgr"
   },
   "source": [
    "## 2. Accessing"
   ]
  },
  {
   "cell_type": "code",
   "execution_count": null,
   "metadata": {
    "colab": {
     "base_uri": "https://localhost:8080/"
    },
    "id": "Hp4CogsCtWgr",
    "outputId": "8f3b306e-8641-4b41-d46b-b9e7cade7f81"
   },
   "outputs": [],
   "source": [
    "# Keep in mind the positions in Python start in **0**.\n",
    "agesP[0]"
   ]
  },
  {
   "cell_type": "code",
   "execution_count": null,
   "metadata": {
    "colab": {
     "base_uri": "https://localhost:8080/"
    },
    "id": "bZalkSyg7ozY",
    "outputId": "c38e61f2-2457-4f62-8944-093b5a453b11"
   },
   "outputs": [],
   "source": [
    "%%R\n",
    "agesR[1]"
   ]
  },
  {
   "cell_type": "code",
   "execution_count": null,
   "metadata": {
    "colab": {
     "base_uri": "https://localhost:8080/",
     "height": 35
    },
    "id": "MuQtAvsH-rJw",
    "outputId": "636f5847-021e-420a-afba-488c89268041"
   },
   "outputs": [],
   "source": [
    "#last element\n",
    "countryP[-1]"
   ]
  },
  {
   "cell_type": "code",
   "execution_count": null,
   "metadata": {
    "colab": {
     "base_uri": "https://localhost:8080/"
    },
    "id": "Ffzl7qci-yzx",
    "outputId": "c4fc13b5-794f-4ceb-d15b-22e1d14dd037"
   },
   "outputs": [],
   "source": [
    "%%R\n",
    "tail(countryR,1)"
   ]
  },
  {
   "cell_type": "markdown",
   "metadata": {
    "id": "hAq14dMo8TnG"
   },
   "source": [
    "### Slices"
   ]
  },
  {
   "cell_type": "code",
   "execution_count": null,
   "metadata": {
    "colab": {
     "base_uri": "https://localhost:8080/"
    },
    "id": "pa7c_1M1tWgv",
    "outputId": "f64fcdd3-948d-46a8-f946-e8037dfb797f"
   },
   "outputs": [],
   "source": [
    "# several, using slices:\n",
    "agesP[1:4] #second to fourth"
   ]
  },
  {
   "cell_type": "code",
   "execution_count": null,
   "metadata": {
    "colab": {
     "base_uri": "https://localhost:8080/"
    },
    "id": "AF942YnF8yc9",
    "outputId": "6f12f2d2-c1a3-43a6-f5bc-528354e3f216"
   },
   "outputs": [],
   "source": [
    "%%R\n",
    "agesR[2:4]"
   ]
  },
  {
   "cell_type": "code",
   "execution_count": null,
   "metadata": {
    "colab": {
     "base_uri": "https://localhost:8080/"
    },
    "id": "p8h88eUjtWg1",
    "outputId": "7206b533-c372-489c-f6c0-9ad2d9bea18c"
   },
   "outputs": [],
   "source": [
    "# non consecutive\n",
    "\n",
    "agesP[[0,2,3]]"
   ]
  },
  {
   "cell_type": "code",
   "execution_count": null,
   "metadata": {
    "colab": {
     "base_uri": "https://localhost:8080/"
    },
    "id": "c8RpFx1dAEmz",
    "outputId": "250e6470-723d-4a98-de09-16365327e3d9"
   },
   "outputs": [],
   "source": [
    "%%R\n",
    "agesR[c(1,3,4)]"
   ]
  },
  {
   "cell_type": "markdown",
   "metadata": {
    "id": "3HdLpDektWg6"
   },
   "source": [
    "## Replacing"
   ]
  },
  {
   "cell_type": "markdown",
   "metadata": {
    "id": "W9tJhxjeBMyX"
   },
   "source": [
    "### by Position"
   ]
  },
  {
   "cell_type": "code",
   "execution_count": null,
   "metadata": {
    "colab": {
     "base_uri": "https://localhost:8080/"
    },
    "id": "Q5mtP1j8tWg7",
    "outputId": "e3955b55-e0f9-48ff-af55-0c28ad47070a"
   },
   "outputs": [],
   "source": [
    "countryP[2]=\"Spain\"\n",
    "\n",
    "# list changed:\n",
    "countryP"
   ]
  },
  {
   "cell_type": "code",
   "execution_count": null,
   "metadata": {
    "colab": {
     "base_uri": "https://localhost:8080/"
    },
    "id": "Bq1cr1VPBRJz",
    "outputId": "fd3513d1-4946-4fae-c61e-3861abb854fd"
   },
   "outputs": [],
   "source": [
    "%%R\n",
    "countryR[3]=\"Spain\"\n",
    "\n",
    "# list changed:\n",
    "countryR"
   ]
  },
  {
   "cell_type": "markdown",
   "metadata": {
    "id": "i3KudD3Don96"
   },
   "source": [
    "### By Value"
   ]
  },
  {
   "cell_type": "code",
   "execution_count": null,
   "metadata": {
    "colab": {
     "base_uri": "https://localhost:8080/"
    },
    "id": "Nf9PJWMjqiNI",
    "outputId": "a297061e-2dcc-4dea-fd6d-f2748b58dac5"
   },
   "outputs": [],
   "source": [
    "countryP=np.char.replace(countryP, 'China', 'PR China')\n",
    "countryP"
   ]
  },
  {
   "cell_type": "code",
   "execution_count": null,
   "metadata": {
    "colab": {
     "base_uri": "https://localhost:8080/"
    },
    "id": "ZozgXyECpjy2",
    "outputId": "638460b7-f0bd-4176-e29b-417c81ffad86"
   },
   "outputs": [],
   "source": [
    "%%R\n",
    "countryR[countryR=='China']=\"PR China\"\n",
    "countryR"
   ]
  },
  {
   "cell_type": "markdown",
   "metadata": {
    "id": "_CF8wYu0tWhH"
   },
   "source": [
    "## Deleting"
   ]
  },
  {
   "cell_type": "markdown",
   "metadata": {
    "id": "bjYzRXv2rB2r"
   },
   "source": [
    "### By Position"
   ]
  },
  {
   "cell_type": "code",
   "execution_count": null,
   "metadata": {
    "colab": {
     "base_uri": "https://localhost:8080/"
    },
    "id": "ghWSnmzftWhH",
    "outputId": "f8273145-6d73-4150-9269-5c053c07dcd4"
   },
   "outputs": [],
   "source": [
    "countryP=np.delete(countryP,-1)\n",
    "countryP"
   ]
  },
  {
   "cell_type": "code",
   "execution_count": null,
   "metadata": {
    "colab": {
     "base_uri": "https://localhost:8080/"
    },
    "id": "h6UsIzY5tIgY",
    "outputId": "cbf17a48-0192-4609-a3e8-b4dcf615cb99"
   },
   "outputs": [],
   "source": [
    "%%R\n",
    "countryR=countryR[-length(countryR)]\n",
    "countryR"
   ]
  },
  {
   "cell_type": "code",
   "execution_count": null,
   "metadata": {
    "colab": {
     "base_uri": "https://localhost:8080/"
    },
    "id": "EVla5Ov2tWhM",
    "outputId": "d6cf4506-2d3c-418a-a13e-86635ecb6215"
   },
   "outputs": [],
   "source": [
    "# for several positions\n",
    "\n",
    "vectorP=np.array([1,2,3,4,5,6])\n",
    "vectorP=np.delete(vectorP,range(1,4))\n",
    "#now:\n",
    "vectorP"
   ]
  },
  {
   "cell_type": "code",
   "execution_count": null,
   "metadata": {
    "colab": {
     "base_uri": "https://localhost:8080/"
    },
    "id": "hquozQUutoXe",
    "outputId": "f8895239-24d2-4501-a403-0dd39877cb6e"
   },
   "outputs": [],
   "source": [
    "%%R\n",
    "\n",
    "vectorR=c(1,2,3,4,5,6)\n",
    "vectorR=vectorR[-c(2:4)]\n",
    "\n",
    "#now:\n",
    "vectorR"
   ]
  },
  {
   "cell_type": "code",
   "execution_count": null,
   "metadata": {
    "colab": {
     "base_uri": "https://localhost:8080/"
    },
    "id": "4Sc0LyKDuJoz",
    "outputId": "f2fb492b-c669-4523-8547-c71e61b1d4ae"
   },
   "outputs": [],
   "source": [
    "# non consecutive\n",
    "byeIndex=[1, 3, 5]\n",
    "\n",
    "vectorP=np.array([11,22,33,44,55,66])\n",
    "new_vectorP=np.delete(vectorP,byeIndex)\n",
    "\n",
    "#now:\n",
    "new_vectorP"
   ]
  },
  {
   "cell_type": "code",
   "execution_count": null,
   "metadata": {
    "colab": {
     "base_uri": "https://localhost:8080/"
    },
    "id": "A38KkgtGvpdv",
    "outputId": "1d014c7c-b2b6-40c4-d91c-946ac56888c3"
   },
   "outputs": [],
   "source": [
    "%%R\n",
    "vectorR=c(11,22,33,44,55,66)\n",
    "new_vectorR=vectorR[-c(2,4,6)]\n",
    "new_vectorR"
   ]
  },
  {
   "cell_type": "markdown",
   "metadata": {
    "id": "rz-SxbVDyI_5"
   },
   "source": [
    "### by Value"
   ]
  },
  {
   "cell_type": "code",
   "execution_count": null,
   "metadata": {
    "colab": {
     "base_uri": "https://localhost:8080/"
    },
    "id": "kQCwXCw3tWhO",
    "outputId": "9cdf0bab-dbd9-4e73-81e9-2db4a6f98004"
   },
   "outputs": [],
   "source": [
    "# by value\n",
    "vectorP=np.array([1,3,45,3,3])\n",
    "\n",
    "vectorP=np.delete(vectorP, np.where(vectorP == 3))\n",
    "\n",
    "#  changed:\n",
    "vectorP"
   ]
  },
  {
   "cell_type": "code",
   "execution_count": null,
   "metadata": {
    "colab": {
     "base_uri": "https://localhost:8080/"
    },
    "id": "fSrbGThNzuxk",
    "outputId": "e204c6f4-76af-4eef-affa-d22325b83611"
   },
   "outputs": [],
   "source": [
    "%%R\n",
    "\n",
    "vectorR=c(1,3,45,3,3)\n",
    "vectorR=vectorR[vectorR!=3]\n",
    "vectorR\n"
   ]
  },
  {
   "cell_type": "code",
   "execution_count": null,
   "metadata": {
    "colab": {
     "base_uri": "https://localhost:8080/"
    },
    "id": "JbW-UmIBKLpI",
    "outputId": "341ca203-c66b-4ba3-c7db-5226edc2a3a0"
   },
   "outputs": [],
   "source": [
    "# by value\n",
    "vectorP=np.array([1,3,45,3,3])\n",
    "\n",
    "#vectorP=\n",
    "vectorP=np.delete(vectorP, np.isin(vectorP,[1,45]))\n",
    "\n",
    "#  changed:\n",
    "vectorP"
   ]
  },
  {
   "cell_type": "code",
   "execution_count": null,
   "metadata": {
    "colab": {
     "base_uri": "https://localhost:8080/"
    },
    "id": "uZaUCzb_MWpy",
    "outputId": "62c8822a-41ad-42b7-89d1-68bca4d72990"
   },
   "outputs": [],
   "source": [
    "%%R\n",
    "\n",
    "vectorR=c(1,3,45,3,3)\n",
    "vectorR=vectorR[!vectorR%in%c(1,45)]\n",
    "vectorR"
   ]
  },
  {
   "cell_type": "markdown",
   "metadata": {
    "id": "JzcKbpXptWhX"
   },
   "source": [
    "## Inserting values"
   ]
  },
  {
   "cell_type": "markdown",
   "metadata": {
    "id": "hVd3ie7Azqz8"
   },
   "source": [
    "### at the End"
   ]
  },
  {
   "cell_type": "code",
   "execution_count": null,
   "metadata": {
    "colab": {
     "base_uri": "https://localhost:8080/"
    },
    "id": "or5OmtestWhY",
    "outputId": "f4edffc6-5095-470c-d270-7a09f57c0635"
   },
   "outputs": [],
   "source": [
    "vectorP=np.array([1,2,3,4])\n",
    "vectorP=np.append(vectorP,5)\n",
    "vectorP"
   ]
  },
  {
   "cell_type": "code",
   "execution_count": null,
   "metadata": {
    "colab": {
     "base_uri": "https://localhost:8080/"
    },
    "id": "QCiOC5fG3O42",
    "outputId": "2f73c79e-862d-4795-d536-ec61f2a960cf"
   },
   "outputs": [],
   "source": [
    "%%R\n",
    "vectorR=c(1,2,3,4)\n",
    "vectorR=c(vectorR,5)\n",
    "vectorR"
   ]
  },
  {
   "cell_type": "markdown",
   "metadata": {
    "id": "O5b9vQ2Bz00B"
   },
   "source": [
    "### in a particular location"
   ]
  },
  {
   "cell_type": "code",
   "execution_count": null,
   "metadata": {
    "colab": {
     "base_uri": "https://localhost:8080/"
    },
    "id": "GB4IycLs32Ya",
    "outputId": "ac2887a9-2ca8-4a66-d487-7129fe04e5f6"
   },
   "outputs": [],
   "source": [
    "vectorP=np.array([1,2,3,4])\n",
    "vectorP=np.insert(vectorP,obj=1,values=10) #obj is position\n",
    "vectorP"
   ]
  },
  {
   "cell_type": "code",
   "execution_count": null,
   "metadata": {
    "colab": {
     "base_uri": "https://localhost:8080/"
    },
    "id": "IcP2en363_ii",
    "outputId": "548eb482-1637-40a7-c0a8-a68e964d15d3"
   },
   "outputs": [],
   "source": [
    "%%R\n",
    "vectorR=c(1,2,3,4)\n",
    "vectorR=append(vectorR,10,after=1)\n",
    "vectorR"
   ]
  },
  {
   "cell_type": "markdown",
   "metadata": {
    "id": "q6kyjfjmcYOe"
   },
   "source": [
    "## Concatenating"
   ]
  },
  {
   "cell_type": "code",
   "execution_count": null,
   "metadata": {
    "colab": {
     "base_uri": "https://localhost:8080/"
    },
    "id": "qheKebwLca3H",
    "outputId": "3563616f-e338-4df8-d226-f39a08a02cfe"
   },
   "outputs": [],
   "source": [
    "import numpy as np\n",
    "\n",
    "vectorP1=np.array([1,2,3,4])\n",
    "vectorP2=np.array(['a','b'])\n",
    "vectorP12=np.concatenate((vectorP1,vectorP2))\n",
    "vectorP12"
   ]
  },
  {
   "cell_type": "code",
   "execution_count": null,
   "metadata": {
    "colab": {
     "base_uri": "https://localhost:8080/"
    },
    "id": "UmLUsWXwcvdM",
    "outputId": "d3dfb82b-f133-4704-f2a5-437b4b7bd182"
   },
   "outputs": [],
   "source": [
    "%%R\n",
    "vectorR1=c(1,2,3,4)\n",
    "vectorR2=c('a','b')\n",
    "vectorR12=c(vectorR1,vectorR2)\n",
    "vectorR12"
   ]
  },
  {
   "cell_type": "markdown",
   "metadata": {
    "id": "FQ6xriaGePFM"
   },
   "source": [
    "Remember that vectors support just one data type, and coercion will activate when different data types are detected."
   ]
  },
  {
   "cell_type": "code",
   "execution_count": null,
   "metadata": {
    "colab": {
     "base_uri": "https://localhost:8080/"
    },
    "id": "Ef6zopFhXpgY",
    "outputId": "2d3236da-2b11-4ade-804a-350553d03762"
   },
   "outputs": [],
   "source": [
    "vectorP1=np.array([1,2,3,4,\"O\"])\n",
    "vectorP1"
   ]
  },
  {
   "cell_type": "code",
   "execution_count": null,
   "metadata": {
    "colab": {
     "base_uri": "https://localhost:8080/"
    },
    "id": "qF3_i7jFX8gf",
    "outputId": "48597e64-76c7-4f75-8415-f18d083534d6"
   },
   "outputs": [],
   "source": [
    "%%R\n",
    "vectorR1=c(1,2,3,4,\"o\")\n",
    "vectorR1"
   ]
  }
 ],
 "metadata": {
  "anaconda-cloud": {
   "attach-environment": true,
   "summary": "test"
  },
  "colab": {
   "provenance": []
  },
  "hide_input": false,
  "kernelspec": {
   "display_name": "Python 3 (ipykernel)",
   "language": "python",
   "name": "python3"
  },
  "language_info": {
   "codemirror_mode": {
    "name": "ipython",
    "version": 3
   },
   "file_extension": ".py",
   "mimetype": "text/x-python",
   "name": "python",
   "nbconvert_exporter": "python",
   "pygments_lexer": "ipython3",
   "version": "3.12.0"
  }
 },
 "nbformat": 4,
 "nbformat_minor": 4
}
