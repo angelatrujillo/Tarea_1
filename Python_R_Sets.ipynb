{
 "cells": [
  {
   "cell_type": "markdown",
   "metadata": {},
   "source": [
    "<img src=\"https://i.imgur.com/6U6q5jQ.png\"/>\n",
    "\n",
    "\n",
    "<a target=\"_blank\" href=\"https://colab.research.google.com/github/PythonVersusR/basicDataStructures_sets/blob/main/Python_R_Sets.ipynb\">\n",
    "  <img src=\"https://colab.research.google.com/assets/colab-badge.svg\" alt=\"Open In Colab\"/>\n",
    "</a>\n",
    "\n",
    "# Sets in Python"
   ]
  },
  {
   "cell_type": "code",
   "execution_count": null,
   "metadata": {},
   "outputs": [],
   "source": [
    "## if needed, run this and RESTART KERNEL\n",
    "import os\n",
    "os.environ['R_HOME'] ='/Library/Frameworks/R.framework/Resources'"
   ]
  },
  {
   "cell_type": "code",
   "execution_count": null,
   "metadata": {
    "id": "_efl4FU7igh_"
   },
   "outputs": [],
   "source": [
    "%load_ext rpy2.ipython"
   ]
  },
  {
   "cell_type": "markdown",
   "metadata": {
    "id": "ix7xtYzM7GsE"
   },
   "source": [
    "## 1. Creating"
   ]
  },
  {
   "cell_type": "code",
   "execution_count": null,
   "metadata": {
    "colab": {
     "base_uri": "https://localhost:8080/"
    },
    "id": "2ffBcMUO4W6D",
    "outputId": "1133d675-6e04-4f79-eb48-5e9c39bbe616"
   },
   "outputs": [],
   "source": [
    "aSet={1,6,2,3,4,4,4,5}\n",
    "\n",
    "# then\n",
    "aSet"
   ]
  },
  {
   "cell_type": "markdown",
   "metadata": {
    "id": "yBEwwScRd8IL"
   },
   "source": [
    "Notice that **sets** do not allow duplicates, and show ordering of values."
   ]
  },
  {
   "cell_type": "markdown",
   "metadata": {
    "id": "XW-l5zTaAonr"
   },
   "source": [
    "## 2. Accessing"
   ]
  },
  {
   "cell_type": "markdown",
   "metadata": {
    "id": "9WfrgZlD4bMn"
   },
   "source": [
    "You can not use indexes in sets."
   ]
  },
  {
   "cell_type": "code",
   "execution_count": null,
   "metadata": {
    "id": "KQrycQe_4hd2"
   },
   "outputs": [],
   "source": [
    "aSet[1]"
   ]
  },
  {
   "cell_type": "code",
   "execution_count": null,
   "metadata": {
    "colab": {
     "base_uri": "https://localhost:8080/"
    },
    "id": "vY3DDSJs4mU2",
    "outputId": "f3219d8b-25f5-4ddf-e307-bde33f45db5f"
   },
   "outputs": [],
   "source": [
    "#you would need a list:\n",
    "list(aSet)[1]"
   ]
  },
  {
   "cell_type": "markdown",
   "metadata": {
    "id": "lvVhUDHpBzhM"
   },
   "source": [
    "## 2. Replacing"
   ]
  },
  {
   "cell_type": "markdown",
   "metadata": {
    "id": "tfywvzW8j_8j"
   },
   "source": [
    "You would need to rewrite or delete/add an element:"
   ]
  },
  {
   "cell_type": "code",
   "execution_count": null,
   "metadata": {
    "colab": {
     "base_uri": "https://localhost:8080/"
    },
    "id": "a8_TaUeaB-KL",
    "outputId": "939a223f-e680-441e-9817-be3662d585fa"
   },
   "outputs": [],
   "source": [
    "# rewriting\n",
    "bSet={1,2,3,4}\n",
    "bSet=set(x**2 for x in bSet)\n",
    "bSet"
   ]
  },
  {
   "cell_type": "code",
   "execution_count": null,
   "metadata": {
    "colab": {
     "base_uri": "https://localhost:8080/"
    },
    "id": "YJKl01mwkZBs",
    "outputId": "df61360d-d887-430b-83cd-015125507d6b"
   },
   "outputs": [],
   "source": [
    "cSet={'a','b','cc'}\n",
    "cSet.remove('cc')\n",
    "cSet.add('c')\n",
    "cSet"
   ]
  },
  {
   "cell_type": "markdown",
   "metadata": {
    "id": "7zjqtGb8Ck6G"
   },
   "source": [
    "## 3. Deleting"
   ]
  },
  {
   "cell_type": "code",
   "execution_count": null,
   "metadata": {
    "colab": {
     "base_uri": "https://localhost:8080/",
     "height": 183
    },
    "id": "ZM9dCqCKlYmV",
    "outputId": "ab5d83c7-78b9-40b7-ddda-e887798139ab"
   },
   "outputs": [],
   "source": [
    "dSet={1,2,3,'a','b','c'}\n",
    "dSet.remove('d') #will not work"
   ]
  },
  {
   "cell_type": "code",
   "execution_count": null,
   "metadata": {
    "colab": {
     "base_uri": "https://localhost:8080/"
    },
    "id": "UxZ_sEJUlkuZ",
    "outputId": "92f26a49-960d-45e2-b2f0-e3ecf02fc23b"
   },
   "outputs": [],
   "source": [
    "dSet={1,2,3,'a','b','c'}\n",
    "dSet.discard('d')\n",
    "dSet"
   ]
  },
  {
   "cell_type": "code",
   "execution_count": null,
   "metadata": {
    "colab": {
     "base_uri": "https://localhost:8080/"
    },
    "id": "u93ck_VNmOlf",
    "outputId": "7d4d9353-f105-4a23-9921-b8417918e61a"
   },
   "outputs": [],
   "source": [
    "dSet={1,2,3,'a','b','c'}\n",
    "toDelete = [2,40,'b']\n",
    "\n",
    "# keep what is not in toDelete\n",
    "dSet.difference_update(toDelete)\n",
    "dSet"
   ]
  },
  {
   "cell_type": "markdown",
   "metadata": {
    "id": "-jXtOW0eRUOT"
   },
   "source": [
    "Notice the diference for deleting a set:"
   ]
  },
  {
   "cell_type": "code",
   "execution_count": null,
   "metadata": {
    "colab": {
     "base_uri": "https://localhost:8080/"
    },
    "id": "mjS6Ti1kRMa8",
    "outputId": "7fe4edff-3485-4c4f-c7c1-9e58fab0094c"
   },
   "outputs": [],
   "source": [
    "dSet.clear()\n",
    "dSet #empty the set"
   ]
  },
  {
   "cell_type": "code",
   "execution_count": null,
   "metadata": {
    "colab": {
     "base_uri": "https://localhost:8080/",
     "height": 183
    },
    "id": "qzfaIy0kRScs",
    "outputId": "e249e977-bdd5-469c-bacd-2189ab9cc917"
   },
   "outputs": [],
   "source": [
    "del cSet\n",
    "cSet #get rid of set"
   ]
  },
  {
   "cell_type": "markdown",
   "metadata": {
    "id": "dD0Lb3LJTWVp"
   },
   "source": [
    "## 5. Inserting"
   ]
  },
  {
   "cell_type": "code",
   "execution_count": null,
   "metadata": {
    "colab": {
     "base_uri": "https://localhost:8080/"
    },
    "id": "bKuATgHzRchr",
    "outputId": "8ccae8ba-c068-458d-ce85-7b5c2a39c93d"
   },
   "outputs": [],
   "source": [
    "cSet={'a','b','cc'}\n",
    "cSet.update(('dd',))\n",
    "cSet"
   ]
  },
  {
   "cell_type": "code",
   "execution_count": null,
   "metadata": {
    "colab": {
     "base_uri": "https://localhost:8080/"
    },
    "id": "RtOSulXTTeSm",
    "outputId": "49cfda79-0149-4260-a006-a29e781aa090"
   },
   "outputs": [],
   "source": [
    "cSet={'a','b','cc'}\n",
    "cSet.update(('dd','ee'))\n",
    "cSet"
   ]
  },
  {
   "cell_type": "markdown",
   "metadata": {
    "id": "CVGWKH2DRg4t"
   },
   "source": [
    "## Other operations"
   ]
  },
  {
   "cell_type": "markdown",
   "metadata": {
    "id": "XDvC3-PZR_f7"
   },
   "source": [
    "If we have these sets:"
   ]
  },
  {
   "cell_type": "code",
   "execution_count": null,
   "metadata": {
    "id": "QUOCC2LJSCqd"
   },
   "outputs": [],
   "source": [
    "set1={'a','b','c','d'}\n",
    "set2={1,2,3,4}\n",
    "set3={'a',2,3,'d'}"
   ]
  },
  {
   "cell_type": "markdown",
   "metadata": {
    "id": "eiXgIvvJST7O"
   },
   "source": [
    "We could use:"
   ]
  },
  {
   "cell_type": "code",
   "execution_count": null,
   "metadata": {
    "colab": {
     "base_uri": "https://localhost:8080/"
    },
    "id": "aNikvAJgRjl2",
    "outputId": "a7e9fd39-8b45-4714-e830-220e5643439c"
   },
   "outputs": [],
   "source": [
    "# union\n",
    "set4=set1|set2\n",
    "set4"
   ]
  },
  {
   "cell_type": "code",
   "execution_count": null,
   "metadata": {
    "colab": {
     "base_uri": "https://localhost:8080/"
    },
    "id": "trGF-kChSZn6",
    "outputId": "fcd8df1a-de01-4d98-c274-3e2745a4ad29"
   },
   "outputs": [],
   "source": [
    "#intersection\n",
    "set5=set1&set3\n",
    "set5"
   ]
  },
  {
   "cell_type": "code",
   "execution_count": null,
   "metadata": {
    "colab": {
     "base_uri": "https://localhost:8080/"
    },
    "id": "TZYrio8rSqnH",
    "outputId": "83d583a8-f04d-4ba6-8210-95ede4fc9aea"
   },
   "outputs": [],
   "source": [
    "# difference:\n",
    "# set of all the elements to the left that are not present in the right\n",
    "set6=set2-set3\n",
    "set6\n"
   ]
  },
  {
   "cell_type": "code",
   "execution_count": null,
   "metadata": {
    "colab": {
     "base_uri": "https://localhost:8080/"
    },
    "id": "aBj0u4JKT5SU",
    "outputId": "130715a9-24f1-4378-f85d-83e8fa15b923"
   },
   "outputs": [],
   "source": [
    "# symmetric difference\n",
    "# set of elements that are either in the first set or the second set\n",
    "# but not in both.\n",
    "\n",
    "set7=set2^set3\n",
    "set7"
   ]
  },
  {
   "cell_type": "markdown",
   "metadata": {
    "id": "XYjPbmiGij69"
   },
   "source": [
    "# Sets in R\n",
    "\n",
    "R does not have a set data structure, but it has _set_ operations for vectors:"
   ]
  },
  {
   "cell_type": "code",
   "execution_count": null,
   "metadata": {
    "id": "MsBwt4EmXD0k"
   },
   "outputs": [],
   "source": [
    "%%R\n",
    "\n",
    "# some vectors\n",
    "\n",
    "set1R=c('a','b','c','d')\n",
    "set2R=c(1,2,3,4)\n",
    "set3R=c('a',2,3,'d')\n",
    "\n"
   ]
  },
  {
   "cell_type": "code",
   "execution_count": null,
   "metadata": {
    "colab": {
     "base_uri": "https://localhost:8080/"
    },
    "id": "U_-grWqyXr4V",
    "outputId": "206565b2-1966-482c-941f-c575744c828d"
   },
   "outputs": [],
   "source": [
    "%%R\n",
    "\n",
    "union(set1R,set2R)"
   ]
  },
  {
   "cell_type": "code",
   "execution_count": null,
   "metadata": {
    "colab": {
     "base_uri": "https://localhost:8080/"
    },
    "id": "JjGnulMAYivk",
    "outputId": "56e5448d-0fc8-44d4-9e1a-5638e6eae2d4"
   },
   "outputs": [],
   "source": [
    "%%R\n",
    "\n",
    "intersect(set1R,set3R)"
   ]
  },
  {
   "cell_type": "code",
   "execution_count": null,
   "metadata": {
    "colab": {
     "base_uri": "https://localhost:8080/"
    },
    "id": "AIB2ZsMDYs5F",
    "outputId": "94c3225f-2e4f-4294-824e-571018a3f330"
   },
   "outputs": [],
   "source": [
    "%%R\n",
    "\n",
    "setdiff(set2R,set3R)"
   ]
  },
  {
   "cell_type": "code",
   "execution_count": null,
   "metadata": {
    "colab": {
     "base_uri": "https://localhost:8080/"
    },
    "id": "vsMuiq-WZAH3",
    "outputId": "ee9724da-32c9-4ec2-d13a-cfc7a880f6b6"
   },
   "outputs": [],
   "source": [
    "%%R\n",
    "\n",
    "#simmetric difference\n",
    "setdiff(union(set2R,set3R),intersect(set2R,set3R))"
   ]
  },
  {
   "cell_type": "markdown",
   "metadata": {
    "id": "qq3kTjOcaU6E"
   },
   "source": [
    "Notice set operations in R:"
   ]
  },
  {
   "cell_type": "code",
   "execution_count": null,
   "metadata": {
    "colab": {
     "base_uri": "https://localhost:8080/"
    },
    "id": "Rh9unFxRZiDF",
    "outputId": "d6527275-8c7d-48b0-c6c4-aff31ca30b29"
   },
   "outputs": [],
   "source": [
    "%%R\n",
    "\n",
    "set1R=c('a','b','c','d','d') #not a set\n",
    "set2R=c(1,2,3,4,4)#not a set\n",
    "union(set1R,set2R) #result is a set"
   ]
  }
 ],
 "metadata": {
  "anaconda-cloud": {
   "attach-environment": true,
   "summary": "test"
  },
  "colab": {
   "collapsed_sections": [
    "ix7xtYzM7GsE",
    "XW-l5zTaAonr",
    "lvVhUDHpBzhM",
    "7zjqtGb8Ck6G",
    "dD0Lb3LJTWVp",
    "CVGWKH2DRg4t"
   ],
   "provenance": [],
   "toc_visible": true
  },
  "hide_input": false,
  "kernelspec": {
   "display_name": "Python 3 (ipykernel)",
   "language": "python",
   "name": "python3"
  },
  "language_info": {
   "codemirror_mode": {
    "name": "ipython",
    "version": 3
   },
   "file_extension": ".py",
   "mimetype": "text/x-python",
   "name": "python",
   "nbconvert_exporter": "python",
   "pygments_lexer": "ipython3",
   "version": "3.12.0"
  }
 },
 "nbformat": 4,
 "nbformat_minor": 4
}
