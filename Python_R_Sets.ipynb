{
 "cells": [
  {
   "cell_type": "markdown",
   "metadata": {},
   "source": [
    "# Sets in Python"
   ]
  },
  {
   "cell_type": "code",
   "execution_count": 5,
   "metadata": {},
   "outputs": [],
   "source": [
    "## if needed, run this and RESTART KERNEL\n",
    "import os\n",
    "os.environ['R_HOME'] =r'C:\\Program Files\\R'"
   ]
  },
  {
   "cell_type": "code",
   "execution_count": 2,
   "metadata": {},
   "outputs": [
    {
     "name": "stdout",
     "output_type": "stream",
     "text": [
      "Requirement already satisfied: rpy2 in c:\\users\\dell\\anaconda3\\envs\\pythonr\\lib\\site-packages (3.5.15)\n",
      "Requirement already satisfied: cffi>=1.10.0 in c:\\users\\dell\\anaconda3\\envs\\pythonr\\lib\\site-packages (from rpy2) (1.16.0)\n",
      "Requirement already satisfied: jinja2 in c:\\users\\dell\\anaconda3\\envs\\pythonr\\lib\\site-packages (from rpy2) (3.1.2)\n",
      "Requirement already satisfied: tzlocal in c:\\users\\dell\\anaconda3\\envs\\pythonr\\lib\\site-packages (from rpy2) (5.2)\n",
      "Requirement already satisfied: packaging in c:\\users\\dell\\anaconda3\\envs\\pythonr\\lib\\site-packages (from rpy2) (23.1)\n",
      "Requirement already satisfied: pycparser in c:\\users\\dell\\anaconda3\\envs\\pythonr\\lib\\site-packages (from cffi>=1.10.0->rpy2) (2.21)\n",
      "Requirement already satisfied: MarkupSafe>=2.0 in c:\\users\\dell\\anaconda3\\envs\\pythonr\\lib\\site-packages (from jinja2->rpy2) (2.1.3)\n",
      "Requirement already satisfied: tzdata in c:\\users\\dell\\anaconda3\\envs\\pythonr\\lib\\site-packages (from tzlocal->rpy2) (2023.4)\n"
     ]
    }
   ],
   "source": [
    "!pip install rpy2"
   ]
  },
  {
   "cell_type": "code",
   "execution_count": 3,
   "metadata": {
    "id": "_efl4FU7igh_"
   },
   "outputs": [
    {
     "ename": "OSError",
     "evalue": "cannot load library 'C:\\ProgramData\\Microsoft\\Windows\\Start Menu\\Programs\\R\\bin\\x64\\R.dll': error 0x7e",
     "output_type": "error",
     "traceback": [
      "\u001b[1;31m---------------------------------------------------------------------------\u001b[0m",
      "\u001b[1;31mOSError\u001b[0m                                   Traceback (most recent call last)",
      "Cell \u001b[1;32mIn[3], line 1\u001b[0m\n\u001b[1;32m----> 1\u001b[0m get_ipython()\u001b[38;5;241m.\u001b[39mrun_line_magic(\u001b[38;5;124m'\u001b[39m\u001b[38;5;124mload_ext\u001b[39m\u001b[38;5;124m'\u001b[39m, \u001b[38;5;124m'\u001b[39m\u001b[38;5;124mrpy2.ipython\u001b[39m\u001b[38;5;124m'\u001b[39m)\n",
      "File \u001b[1;32m~\\anaconda3\\envs\\PythonR\\Lib\\site-packages\\IPython\\core\\interactiveshell.py:2456\u001b[0m, in \u001b[0;36mInteractiveShell.run_line_magic\u001b[1;34m(self, magic_name, line, _stack_depth)\u001b[0m\n\u001b[0;32m   2454\u001b[0m     kwargs[\u001b[38;5;124m'\u001b[39m\u001b[38;5;124mlocal_ns\u001b[39m\u001b[38;5;124m'\u001b[39m] \u001b[38;5;241m=\u001b[39m \u001b[38;5;28mself\u001b[39m\u001b[38;5;241m.\u001b[39mget_local_scope(stack_depth)\n\u001b[0;32m   2455\u001b[0m \u001b[38;5;28;01mwith\u001b[39;00m \u001b[38;5;28mself\u001b[39m\u001b[38;5;241m.\u001b[39mbuiltin_trap:\n\u001b[1;32m-> 2456\u001b[0m     result \u001b[38;5;241m=\u001b[39m fn(\u001b[38;5;241m*\u001b[39margs, \u001b[38;5;241m*\u001b[39m\u001b[38;5;241m*\u001b[39mkwargs)\n\u001b[0;32m   2458\u001b[0m \u001b[38;5;66;03m# The code below prevents the output from being displayed\u001b[39;00m\n\u001b[0;32m   2459\u001b[0m \u001b[38;5;66;03m# when using magics with decorator @output_can_be_silenced\u001b[39;00m\n\u001b[0;32m   2460\u001b[0m \u001b[38;5;66;03m# when the last Python token in the expression is a ';'.\u001b[39;00m\n\u001b[0;32m   2461\u001b[0m \u001b[38;5;28;01mif\u001b[39;00m \u001b[38;5;28mgetattr\u001b[39m(fn, magic\u001b[38;5;241m.\u001b[39mMAGIC_OUTPUT_CAN_BE_SILENCED, \u001b[38;5;28;01mFalse\u001b[39;00m):\n",
      "File \u001b[1;32m~\\anaconda3\\envs\\PythonR\\Lib\\site-packages\\IPython\\core\\magics\\extension.py:33\u001b[0m, in \u001b[0;36mExtensionMagics.load_ext\u001b[1;34m(self, module_str)\u001b[0m\n\u001b[0;32m     31\u001b[0m \u001b[38;5;28;01mif\u001b[39;00m \u001b[38;5;129;01mnot\u001b[39;00m module_str:\n\u001b[0;32m     32\u001b[0m     \u001b[38;5;28;01mraise\u001b[39;00m UsageError(\u001b[38;5;124m'\u001b[39m\u001b[38;5;124mMissing module name.\u001b[39m\u001b[38;5;124m'\u001b[39m)\n\u001b[1;32m---> 33\u001b[0m res \u001b[38;5;241m=\u001b[39m \u001b[38;5;28mself\u001b[39m\u001b[38;5;241m.\u001b[39mshell\u001b[38;5;241m.\u001b[39mextension_manager\u001b[38;5;241m.\u001b[39mload_extension(module_str)\n\u001b[0;32m     35\u001b[0m \u001b[38;5;28;01mif\u001b[39;00m res \u001b[38;5;241m==\u001b[39m \u001b[38;5;124m'\u001b[39m\u001b[38;5;124malready loaded\u001b[39m\u001b[38;5;124m'\u001b[39m:\n\u001b[0;32m     36\u001b[0m     \u001b[38;5;28mprint\u001b[39m(\u001b[38;5;124m\"\u001b[39m\u001b[38;5;124mThe \u001b[39m\u001b[38;5;132;01m%s\u001b[39;00m\u001b[38;5;124m extension is already loaded. To reload it, use:\u001b[39m\u001b[38;5;124m\"\u001b[39m \u001b[38;5;241m%\u001b[39m module_str)\n",
      "File \u001b[1;32m~\\anaconda3\\envs\\PythonR\\Lib\\site-packages\\IPython\\core\\extensions.py:76\u001b[0m, in \u001b[0;36mExtensionManager.load_extension\u001b[1;34m(self, module_str)\u001b[0m\n\u001b[0;32m     69\u001b[0m \u001b[38;5;250m\u001b[39m\u001b[38;5;124;03m\"\"\"Load an IPython extension by its module name.\u001b[39;00m\n\u001b[0;32m     70\u001b[0m \n\u001b[0;32m     71\u001b[0m \u001b[38;5;124;03mReturns the string \"already loaded\" if the extension is already loaded,\u001b[39;00m\n\u001b[0;32m     72\u001b[0m \u001b[38;5;124;03m\"no load function\" if the module doesn't have a load_ipython_extension\u001b[39;00m\n\u001b[0;32m     73\u001b[0m \u001b[38;5;124;03mfunction, or None if it succeeded.\u001b[39;00m\n\u001b[0;32m     74\u001b[0m \u001b[38;5;124;03m\"\"\"\u001b[39;00m\n\u001b[0;32m     75\u001b[0m \u001b[38;5;28;01mtry\u001b[39;00m:\n\u001b[1;32m---> 76\u001b[0m     \u001b[38;5;28;01mreturn\u001b[39;00m \u001b[38;5;28mself\u001b[39m\u001b[38;5;241m.\u001b[39m_load_extension(module_str)\n\u001b[0;32m     77\u001b[0m \u001b[38;5;28;01mexcept\u001b[39;00m \u001b[38;5;167;01mModuleNotFoundError\u001b[39;00m:\n\u001b[0;32m     78\u001b[0m     \u001b[38;5;28;01mif\u001b[39;00m module_str \u001b[38;5;129;01min\u001b[39;00m BUILTINS_EXTS:\n",
      "File \u001b[1;32m~\\anaconda3\\envs\\PythonR\\Lib\\site-packages\\IPython\\core\\extensions.py:91\u001b[0m, in \u001b[0;36mExtensionManager._load_extension\u001b[1;34m(self, module_str)\u001b[0m\n\u001b[0;32m     89\u001b[0m \u001b[38;5;28;01mwith\u001b[39;00m \u001b[38;5;28mself\u001b[39m\u001b[38;5;241m.\u001b[39mshell\u001b[38;5;241m.\u001b[39mbuiltin_trap:\n\u001b[0;32m     90\u001b[0m     \u001b[38;5;28;01mif\u001b[39;00m module_str \u001b[38;5;129;01mnot\u001b[39;00m \u001b[38;5;129;01min\u001b[39;00m sys\u001b[38;5;241m.\u001b[39mmodules:\n\u001b[1;32m---> 91\u001b[0m         mod \u001b[38;5;241m=\u001b[39m import_module(module_str)\n\u001b[0;32m     92\u001b[0m     mod \u001b[38;5;241m=\u001b[39m sys\u001b[38;5;241m.\u001b[39mmodules[module_str]\n\u001b[0;32m     93\u001b[0m     \u001b[38;5;28;01mif\u001b[39;00m \u001b[38;5;28mself\u001b[39m\u001b[38;5;241m.\u001b[39m_call_load_ipython_extension(mod):\n",
      "File \u001b[1;32m~\\anaconda3\\envs\\PythonR\\Lib\\importlib\\__init__.py:126\u001b[0m, in \u001b[0;36mimport_module\u001b[1;34m(name, package)\u001b[0m\n\u001b[0;32m    124\u001b[0m             \u001b[38;5;28;01mbreak\u001b[39;00m\n\u001b[0;32m    125\u001b[0m         level \u001b[38;5;241m+\u001b[39m\u001b[38;5;241m=\u001b[39m \u001b[38;5;241m1\u001b[39m\n\u001b[1;32m--> 126\u001b[0m \u001b[38;5;28;01mreturn\u001b[39;00m _bootstrap\u001b[38;5;241m.\u001b[39m_gcd_import(name[level:], package, level)\n",
      "File \u001b[1;32m<frozen importlib._bootstrap>:1204\u001b[0m, in \u001b[0;36m_gcd_import\u001b[1;34m(name, package, level)\u001b[0m\n",
      "File \u001b[1;32m<frozen importlib._bootstrap>:1176\u001b[0m, in \u001b[0;36m_find_and_load\u001b[1;34m(name, import_)\u001b[0m\n",
      "File \u001b[1;32m<frozen importlib._bootstrap>:1147\u001b[0m, in \u001b[0;36m_find_and_load_unlocked\u001b[1;34m(name, import_)\u001b[0m\n",
      "File \u001b[1;32m<frozen importlib._bootstrap>:690\u001b[0m, in \u001b[0;36m_load_unlocked\u001b[1;34m(spec)\u001b[0m\n",
      "File \u001b[1;32m<frozen importlib._bootstrap_external>:940\u001b[0m, in \u001b[0;36mexec_module\u001b[1;34m(self, module)\u001b[0m\n",
      "File \u001b[1;32m<frozen importlib._bootstrap>:241\u001b[0m, in \u001b[0;36m_call_with_frames_removed\u001b[1;34m(f, *args, **kwds)\u001b[0m\n",
      "File \u001b[1;32m~\\anaconda3\\envs\\PythonR\\Lib\\site-packages\\rpy2\\ipython\\__init__.py:1\u001b[0m\n\u001b[1;32m----> 1\u001b[0m \u001b[38;5;28;01mfrom\u001b[39;00m \u001b[38;5;21;01m.\u001b[39;00m \u001b[38;5;28;01mimport\u001b[39;00m rmagic\n\u001b[0;32m      3\u001b[0m load_ipython_extension \u001b[38;5;241m=\u001b[39m rmagic\u001b[38;5;241m.\u001b[39mload_ipython_extension\n",
      "File \u001b[1;32m~\\anaconda3\\envs\\PythonR\\Lib\\site-packages\\rpy2\\ipython\\rmagic.py:54\u001b[0m\n\u001b[0;32m     51\u001b[0m \u001b[38;5;28;01mimport\u001b[39;00m \u001b[38;5;21;01mtextwrap\u001b[39;00m\n\u001b[0;32m     52\u001b[0m \u001b[38;5;28;01mimport\u001b[39;00m \u001b[38;5;21;01mtyping\u001b[39;00m\n\u001b[1;32m---> 54\u001b[0m \u001b[38;5;28;01mimport\u001b[39;00m \u001b[38;5;21;01mrpy2\u001b[39;00m\u001b[38;5;21;01m.\u001b[39;00m\u001b[38;5;21;01mrinterface_lib\u001b[39;00m\u001b[38;5;21;01m.\u001b[39;00m\u001b[38;5;21;01mcallbacks\u001b[39;00m\n\u001b[0;32m     56\u001b[0m \u001b[38;5;28;01mimport\u001b[39;00m \u001b[38;5;21;01mrpy2\u001b[39;00m\u001b[38;5;21;01m.\u001b[39;00m\u001b[38;5;21;01mrinterface\u001b[39;00m \u001b[38;5;28;01mas\u001b[39;00m \u001b[38;5;21;01mri\u001b[39;00m\n\u001b[0;32m     58\u001b[0m \u001b[38;5;28;01mimport\u001b[39;00m \u001b[38;5;21;01mrpy2\u001b[39;00m\u001b[38;5;21;01m.\u001b[39;00m\u001b[38;5;21;01mrinterface_lib\u001b[39;00m\u001b[38;5;21;01m.\u001b[39;00m\u001b[38;5;21;01mopenrlib\u001b[39;00m\n",
      "File \u001b[1;32m~\\anaconda3\\envs\\PythonR\\Lib\\site-packages\\rpy2\\rinterface_lib\\callbacks.py:11\u001b[0m\n\u001b[0;32m      9\u001b[0m \u001b[38;5;28;01mimport\u001b[39;00m \u001b[38;5;21;01mtyping\u001b[39;00m\n\u001b[0;32m     10\u001b[0m \u001b[38;5;28;01mimport\u001b[39;00m \u001b[38;5;21;01mos\u001b[39;00m\n\u001b[1;32m---> 11\u001b[0m \u001b[38;5;28;01mfrom\u001b[39;00m \u001b[38;5;21;01mrpy2\u001b[39;00m\u001b[38;5;21;01m.\u001b[39;00m\u001b[38;5;21;01mrinterface_lib\u001b[39;00m \u001b[38;5;28;01mimport\u001b[39;00m openrlib\n\u001b[0;32m     12\u001b[0m \u001b[38;5;28;01mfrom\u001b[39;00m \u001b[38;5;21;01mrpy2\u001b[39;00m\u001b[38;5;21;01m.\u001b[39;00m\u001b[38;5;21;01mrinterface_lib\u001b[39;00m \u001b[38;5;28;01mimport\u001b[39;00m ffi_proxy\n\u001b[0;32m     13\u001b[0m \u001b[38;5;28;01mfrom\u001b[39;00m \u001b[38;5;21;01mrpy2\u001b[39;00m\u001b[38;5;21;01m.\u001b[39;00m\u001b[38;5;21;01mrinterface_lib\u001b[39;00m \u001b[38;5;28;01mimport\u001b[39;00m conversion\n",
      "File \u001b[1;32m~\\anaconda3\\envs\\PythonR\\Lib\\site-packages\\rpy2\\rinterface_lib\\openrlib.py:58\u001b[0m\n\u001b[0;32m     56\u001b[0m     rlib \u001b[38;5;241m=\u001b[39m _rinterface_cffi\u001b[38;5;241m.\u001b[39mlib\n\u001b[0;32m     57\u001b[0m \u001b[38;5;28;01melse\u001b[39;00m:\n\u001b[1;32m---> 58\u001b[0m     rlib \u001b[38;5;241m=\u001b[39m _dlopen_rlib(R_HOME)\n\u001b[0;32m     61\u001b[0m \u001b[38;5;66;03m# R macros and functions\u001b[39;00m\n\u001b[0;32m     62\u001b[0m \u001b[38;5;28;01mdef\u001b[39;00m \u001b[38;5;21m_get_symbol_or_fallback\u001b[39m(symbol: \u001b[38;5;28mstr\u001b[39m, fallback: typing\u001b[38;5;241m.\u001b[39mAny):\n",
      "File \u001b[1;32m~\\anaconda3\\envs\\PythonR\\Lib\\site-packages\\rpy2\\rinterface_lib\\openrlib.py:51\u001b[0m, in \u001b[0;36m_dlopen_rlib\u001b[1;34m(r_home)\u001b[0m\n\u001b[0;32m     49\u001b[0m     \u001b[38;5;28;01mraise\u001b[39;00m \u001b[38;5;167;01mValueError\u001b[39;00m(\u001b[38;5;124m'\u001b[39m\u001b[38;5;124mThe library path cannot be None.\u001b[39m\u001b[38;5;124m'\u001b[39m)\n\u001b[0;32m     50\u001b[0m \u001b[38;5;28;01melse\u001b[39;00m:\n\u001b[1;32m---> 51\u001b[0m     rlib \u001b[38;5;241m=\u001b[39m ffi\u001b[38;5;241m.\u001b[39mdlopen(lib_path)\n\u001b[0;32m     52\u001b[0m \u001b[38;5;28;01mreturn\u001b[39;00m rlib\n",
      "\u001b[1;31mOSError\u001b[0m: cannot load library 'C:\\ProgramData\\Microsoft\\Windows\\Start Menu\\Programs\\R\\bin\\x64\\R.dll': error 0x7e"
     ]
    }
   ],
   "source": [
    "%load_ext rpy2.ipython"
   ]
  },
  {
   "cell_type": "markdown",
   "metadata": {
    "id": "ix7xtYzM7GsE"
   },
   "source": [
    "## 1. Creating"
   ]
  },
  {
   "cell_type": "code",
   "execution_count": 2,
   "metadata": {
    "colab": {
     "base_uri": "https://localhost:8080/"
    },
    "id": "2ffBcMUO4W6D",
    "outputId": "1133d675-6e04-4f79-eb48-5e9c39bbe616"
   },
   "outputs": [
    {
     "data": {
      "text/plain": [
       "{1, 2, 3, 4, 5, 6}"
      ]
     },
     "execution_count": 2,
     "metadata": {},
     "output_type": "execute_result"
    }
   ],
   "source": [
    "aSet={1,6,2,3,4,4,4,5}\n",
    "\n",
    "# then\n",
    "aSet"
   ]
  },
  {
   "cell_type": "markdown",
   "metadata": {
    "id": "yBEwwScRd8IL"
   },
   "source": [
    "Notice that **sets** do not allow duplicates, and show ordering of values."
   ]
  },
  {
   "cell_type": "markdown",
   "metadata": {
    "id": "XW-l5zTaAonr"
   },
   "source": [
    "## 2. Accessing"
   ]
  },
  {
   "cell_type": "markdown",
   "metadata": {
    "id": "9WfrgZlD4bMn"
   },
   "source": [
    "You can not use indexes in sets."
   ]
  },
  {
   "cell_type": "code",
   "execution_count": 1,
   "metadata": {
    "id": "KQrycQe_4hd2"
   },
   "outputs": [
    {
     "ename": "NameError",
     "evalue": "name 'aSet' is not defined",
     "output_type": "error",
     "traceback": [
      "\u001b[1;31m---------------------------------------------------------------------------\u001b[0m",
      "\u001b[1;31mNameError\u001b[0m                                 Traceback (most recent call last)",
      "Cell \u001b[1;32mIn[1], line 1\u001b[0m\n\u001b[1;32m----> 1\u001b[0m aSet[\u001b[38;5;241m1\u001b[39m]\n",
      "\u001b[1;31mNameError\u001b[0m: name 'aSet' is not defined"
     ]
    }
   ],
   "source": [
    "aSet[1]"
   ]
  },
  {
   "cell_type": "code",
   "execution_count": null,
   "metadata": {
    "colab": {
     "base_uri": "https://localhost:8080/"
    },
    "id": "vY3DDSJs4mU2",
    "outputId": "f3219d8b-25f5-4ddf-e307-bde33f45db5f"
   },
   "outputs": [],
   "source": [
    "#you would need a list:\n",
    "list(aSet)[1]"
   ]
  },
  {
   "cell_type": "markdown",
   "metadata": {
    "id": "lvVhUDHpBzhM"
   },
   "source": [
    "## 2. Replacing"
   ]
  },
  {
   "cell_type": "markdown",
   "metadata": {
    "id": "tfywvzW8j_8j"
   },
   "source": [
    "You would need to rewrite or delete/add an element:"
   ]
  },
  {
   "cell_type": "code",
   "execution_count": null,
   "metadata": {
    "colab": {
     "base_uri": "https://localhost:8080/"
    },
    "id": "a8_TaUeaB-KL",
    "outputId": "939a223f-e680-441e-9817-be3662d585fa"
   },
   "outputs": [],
   "source": [
    "# rewriting\n",
    "bSet={1,2,3,4}\n",
    "bSet=set(x**2 for x in bSet)\n",
    "bSet"
   ]
  },
  {
   "cell_type": "code",
   "execution_count": null,
   "metadata": {
    "colab": {
     "base_uri": "https://localhost:8080/"
    },
    "id": "YJKl01mwkZBs",
    "outputId": "df61360d-d887-430b-83cd-015125507d6b"
   },
   "outputs": [],
   "source": [
    "cSet={'a','b','cc'}\n",
    "cSet.remove('cc')\n",
    "cSet.add('c')\n",
    "cSet"
   ]
  },
  {
   "cell_type": "markdown",
   "metadata": {
    "id": "7zjqtGb8Ck6G"
   },
   "source": [
    "## 3. Deleting"
   ]
  },
  {
   "cell_type": "code",
   "execution_count": null,
   "metadata": {
    "colab": {
     "base_uri": "https://localhost:8080/",
     "height": 183
    },
    "id": "ZM9dCqCKlYmV",
    "outputId": "ab5d83c7-78b9-40b7-ddda-e887798139ab"
   },
   "outputs": [],
   "source": [
    "dSet={1,2,3,'a','b','c'}\n",
    "dSet.remove('d') #will not work"
   ]
  },
  {
   "cell_type": "code",
   "execution_count": null,
   "metadata": {
    "colab": {
     "base_uri": "https://localhost:8080/"
    },
    "id": "UxZ_sEJUlkuZ",
    "outputId": "92f26a49-960d-45e2-b2f0-e3ecf02fc23b"
   },
   "outputs": [],
   "source": [
    "dSet={1,2,3,'a','b','c'}\n",
    "dSet.discard('d')\n",
    "dSet"
   ]
  },
  {
   "cell_type": "code",
   "execution_count": null,
   "metadata": {
    "colab": {
     "base_uri": "https://localhost:8080/"
    },
    "id": "u93ck_VNmOlf",
    "outputId": "7d4d9353-f105-4a23-9921-b8417918e61a"
   },
   "outputs": [],
   "source": [
    "dSet={1,2,3,'a','b','c'}\n",
    "toDelete = [2,40,'b']\n",
    "\n",
    "# keep what is not in toDelete\n",
    "dSet.difference_update(toDelete)\n",
    "dSet"
   ]
  },
  {
   "cell_type": "markdown",
   "metadata": {
    "id": "-jXtOW0eRUOT"
   },
   "source": [
    "Notice the diference for deleting a set:"
   ]
  },
  {
   "cell_type": "code",
   "execution_count": null,
   "metadata": {
    "colab": {
     "base_uri": "https://localhost:8080/"
    },
    "id": "mjS6Ti1kRMa8",
    "outputId": "7fe4edff-3485-4c4f-c7c1-9e58fab0094c"
   },
   "outputs": [],
   "source": [
    "dSet.clear()\n",
    "dSet #empty the set"
   ]
  },
  {
   "cell_type": "code",
   "execution_count": null,
   "metadata": {
    "colab": {
     "base_uri": "https://localhost:8080/",
     "height": 183
    },
    "id": "qzfaIy0kRScs",
    "outputId": "e249e977-bdd5-469c-bacd-2189ab9cc917"
   },
   "outputs": [],
   "source": [
    "del cSet\n",
    "cSet #get rid of set"
   ]
  },
  {
   "cell_type": "markdown",
   "metadata": {
    "id": "dD0Lb3LJTWVp"
   },
   "source": [
    "## 5. Inserting"
   ]
  },
  {
   "cell_type": "code",
   "execution_count": null,
   "metadata": {
    "colab": {
     "base_uri": "https://localhost:8080/"
    },
    "id": "bKuATgHzRchr",
    "outputId": "8ccae8ba-c068-458d-ce85-7b5c2a39c93d"
   },
   "outputs": [],
   "source": [
    "cSet={'a','b','cc'}\n",
    "cSet.update(('dd',))\n",
    "cSet"
   ]
  },
  {
   "cell_type": "code",
   "execution_count": null,
   "metadata": {
    "colab": {
     "base_uri": "https://localhost:8080/"
    },
    "id": "RtOSulXTTeSm",
    "outputId": "49cfda79-0149-4260-a006-a29e781aa090"
   },
   "outputs": [],
   "source": [
    "cSet={'a','b','cc'}\n",
    "cSet.update(('dd','ee'))\n",
    "cSet"
   ]
  },
  {
   "cell_type": "markdown",
   "metadata": {
    "id": "CVGWKH2DRg4t"
   },
   "source": [
    "## Other operations"
   ]
  },
  {
   "cell_type": "markdown",
   "metadata": {
    "id": "XDvC3-PZR_f7"
   },
   "source": [
    "If we have these sets:"
   ]
  },
  {
   "cell_type": "code",
   "execution_count": null,
   "metadata": {
    "id": "QUOCC2LJSCqd"
   },
   "outputs": [],
   "source": [
    "set1={'a','b','c','d'}\n",
    "set2={1,2,3,4}\n",
    "set3={'a',2,3,'d'}"
   ]
  },
  {
   "cell_type": "markdown",
   "metadata": {
    "id": "eiXgIvvJST7O"
   },
   "source": [
    "We could use:"
   ]
  },
  {
   "cell_type": "code",
   "execution_count": null,
   "metadata": {
    "colab": {
     "base_uri": "https://localhost:8080/"
    },
    "id": "aNikvAJgRjl2",
    "outputId": "a7e9fd39-8b45-4714-e830-220e5643439c"
   },
   "outputs": [],
   "source": [
    "# union\n",
    "set4=set1|set2\n",
    "set4"
   ]
  },
  {
   "cell_type": "code",
   "execution_count": null,
   "metadata": {
    "colab": {
     "base_uri": "https://localhost:8080/"
    },
    "id": "trGF-kChSZn6",
    "outputId": "fcd8df1a-de01-4d98-c274-3e2745a4ad29"
   },
   "outputs": [],
   "source": [
    "#intersection\n",
    "set5=set1&set3\n",
    "set5"
   ]
  },
  {
   "cell_type": "code",
   "execution_count": null,
   "metadata": {
    "colab": {
     "base_uri": "https://localhost:8080/"
    },
    "id": "TZYrio8rSqnH",
    "outputId": "83d583a8-f04d-4ba6-8210-95ede4fc9aea"
   },
   "outputs": [],
   "source": [
    "# difference:\n",
    "# set of all the elements to the left that are not present in the right\n",
    "set6=set2-set3\n",
    "set6\n"
   ]
  },
  {
   "cell_type": "code",
   "execution_count": null,
   "metadata": {
    "colab": {
     "base_uri": "https://localhost:8080/"
    },
    "id": "aBj0u4JKT5SU",
    "outputId": "130715a9-24f1-4378-f85d-83e8fa15b923"
   },
   "outputs": [],
   "source": [
    "# symmetric difference\n",
    "# set of elements that are either in the first set or the second set\n",
    "# but not in both.\n",
    "\n",
    "set7=set2^set3\n",
    "set7"
   ]
  },
  {
   "cell_type": "markdown",
   "metadata": {
    "id": "XYjPbmiGij69"
   },
   "source": [
    "# Sets in R\n",
    "\n",
    "R does not have a set data structure, but it has _set_ operations for vectors:"
   ]
  },
  {
   "cell_type": "code",
   "execution_count": 1,
   "metadata": {
    "id": "MsBwt4EmXD0k"
   },
   "outputs": [
    {
     "name": "stderr",
     "output_type": "stream",
     "text": [
      "UsageError: Cell magic `%%R` not found.\n"
     ]
    }
   ],
   "source": [
    "%%R\n",
    "\n",
    "# some vectors\n",
    "\n",
    "set1R=c('a','b','c','d')\n",
    "set2R=c(1,2,3,4)\n",
    "set3R=c('a',2,3,'d')\n",
    "\n"
   ]
  },
  {
   "cell_type": "code",
   "execution_count": null,
   "metadata": {
    "colab": {
     "base_uri": "https://localhost:8080/"
    },
    "id": "U_-grWqyXr4V",
    "outputId": "206565b2-1966-482c-941f-c575744c828d"
   },
   "outputs": [],
   "source": [
    "%%R\n",
    "\n",
    "union(set1R,set2R)"
   ]
  },
  {
   "cell_type": "code",
   "execution_count": null,
   "metadata": {
    "colab": {
     "base_uri": "https://localhost:8080/"
    },
    "id": "JjGnulMAYivk",
    "outputId": "56e5448d-0fc8-44d4-9e1a-5638e6eae2d4"
   },
   "outputs": [],
   "source": [
    "%%R\n",
    "\n",
    "intersect(set1R,set3R)"
   ]
  },
  {
   "cell_type": "code",
   "execution_count": null,
   "metadata": {
    "colab": {
     "base_uri": "https://localhost:8080/"
    },
    "id": "AIB2ZsMDYs5F",
    "outputId": "94c3225f-2e4f-4294-824e-571018a3f330"
   },
   "outputs": [],
   "source": [
    "%%R\n",
    "\n",
    "setdiff(set2R,set3R)"
   ]
  },
  {
   "cell_type": "code",
   "execution_count": null,
   "metadata": {
    "colab": {
     "base_uri": "https://localhost:8080/"
    },
    "id": "vsMuiq-WZAH3",
    "outputId": "ee9724da-32c9-4ec2-d13a-cfc7a880f6b6"
   },
   "outputs": [],
   "source": [
    "%%R\n",
    "\n",
    "#simmetric difference\n",
    "setdiff(union(set2R,set3R),intersect(set2R,set3R))"
   ]
  },
  {
   "cell_type": "markdown",
   "metadata": {
    "id": "qq3kTjOcaU6E"
   },
   "source": [
    "Notice set operations in R:"
   ]
  },
  {
   "cell_type": "code",
   "execution_count": null,
   "metadata": {
    "colab": {
     "base_uri": "https://localhost:8080/"
    },
    "id": "Rh9unFxRZiDF",
    "outputId": "d6527275-8c7d-48b0-c6c4-aff31ca30b29"
   },
   "outputs": [],
   "source": [
    "%%R\n",
    "\n",
    "set1R=c('a','b','c','d','d') #not a set\n",
    "set2R=c(1,2,3,4,4)#not a set\n",
    "union(set1R,set2R) #result is a set"
   ]
  },
  {
   "cell_type": "code",
   "execution_count": null,
   "metadata": {},
   "outputs": [],
   "source": []
  }
 ],
 "metadata": {
  "anaconda-cloud": {
   "attach-environment": true,
   "summary": "test"
  },
  "colab": {
   "collapsed_sections": [
    "ix7xtYzM7GsE",
    "XW-l5zTaAonr",
    "lvVhUDHpBzhM",
    "7zjqtGb8Ck6G",
    "dD0Lb3LJTWVp",
    "CVGWKH2DRg4t"
   ],
   "provenance": [],
   "toc_visible": true
  },
  "hide_input": false,
  "kernelspec": {
   "display_name": "Python 3 (ipykernel)",
   "language": "python",
   "name": "python3"
  },
  "language_info": {
   "codemirror_mode": {
    "name": "ipython",
    "version": 3
   },
   "file_extension": ".py",
   "mimetype": "text/x-python",
   "name": "python",
   "nbconvert_exporter": "python",
   "pygments_lexer": "ipython3",
   "version": "3.11.7"
  }
 },
 "nbformat": 4,
 "nbformat_minor": 4
}
